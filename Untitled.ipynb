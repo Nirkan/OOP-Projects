{
 "cells": [
  {
   "cell_type": "markdown",
   "metadata": {},
   "source": [
    "## Object Oriented Programming basics"
   ]
  },
  {
   "cell_type": "code",
   "execution_count": 1,
   "metadata": {},
   "outputs": [
    {
     "name": "stdout",
     "output_type": "stream",
     "text": [
      "Rocket altitude : 0\n",
      "Rocket altitude : 1\n",
      "Rocket altitude : 2\n"
     ]
    }
   ],
   "source": [
    "# Basics of Object Oriented Programming\n",
    "\n",
    "class Rocket():            # Rocket simulates a rocket ship for a game\n",
    "    def __init__(self):\n",
    "        self.x = 0         # Each rocket has an (x, y) position\n",
    "        self.y = 0\n",
    "\n",
    "    def move_up(self):  \n",
    "        self.y += 1        # Increment the y-position\n",
    "\n",
    "# Creating a rocket object and move it up\n",
    "my_rocket = Rocket()      \n",
    "print('Rocket altitude :', my_rocket.y)\n",
    "\n",
    "my_rocket.move_up()\n",
    "print(\"Rocket altitude :\", my_rocket.y)\n",
    "\n",
    "my_rocket.move_up()\n",
    "print(\"Rocket altitude :\", my_rocket.y)"
   ]
  },
  {
   "cell_type": "code",
   "execution_count": 2,
   "metadata": {},
   "outputs": [
    {
     "name": "stdout",
     "output_type": "stream",
     "text": [
      "Rocket altitude: 1\n",
      "Rocket altitude: 0\n",
      "Rocket altitude: 0\n",
      "Rocket altitude: 0\n",
      "Rocket altitude: 0\n"
     ]
    }
   ],
   "source": [
    "class Rocket():            # Rocket simulates a rocket ship for a game\n",
    "    def __init__(self):\n",
    "        self.x = 0         # Each rocket has an (x, y) position\n",
    "        self.y = 0\n",
    "\n",
    "    def move_up(self):  \n",
    "        self.y += 1        # Increment the y-position\n",
    "\n",
    "\n",
    "# Creating a fleet of 5 rockets, and store them in a list.\n",
    "my_rockets = []\n",
    "for x in range(0, 5):\n",
    "    new_rocket = Rocket()\n",
    "    my_rockets.append(new_rocket)\n",
    "\n",
    "# Moving the first rocket up\n",
    "my_rockets[0].move_up()\n",
    "\n",
    "# Showing that only first rocket has moved\n",
    "for rocket in my_rockets:\n",
    "    print(\"Rocket altitude:\", rocket.y)"
   ]
  },
  {
   "cell_type": "code",
   "execution_count": 3,
   "metadata": {},
   "outputs": [
    {
     "name": "stdout",
     "output_type": "stream",
     "text": [
      "Rocket 0 is at (0, 0).\n",
      "Rocket 1 is at (0, 10).\n",
      "Rocket 2 is at (100, 0).\n"
     ]
    }
   ],
   "source": [
    "class Rocket():\n",
    "    def __init__(self, x=0, y=0):\n",
    "        self.x = x\n",
    "        self.y = y\n",
    "        \n",
    "    def move_up(self):\n",
    "        self.y += 1\n",
    "        \n",
    "# Make a series of rockets at adifferent starting places.\n",
    "rockets = []\n",
    "rockets.append(Rocket())\n",
    "rockets.append(Rocket(0, 10))\n",
    "rockets.append(Rocket(100, 0))\n",
    "\n",
    "# Show where each rocket is.\n",
    "for index, rocket in enumerate(rockets):\n",
    "    print(\"Rocket %d is at (%d, %d).\" % (index, rocket.x, rocket.y))"
   ]
  },
  {
   "cell_type": "code",
   "execution_count": 4,
   "metadata": {},
   "outputs": [
    {
     "name": "stdout",
     "output_type": "stream",
     "text": [
      "Rocket 0 is at (0, 1).\n",
      "Rocket 1 is at (10, 10).\n",
      "Rocket 2 is at (-10, 0).\n",
      "Rocket 3 is at (-10, 0).\n"
     ]
    }
   ],
   "source": [
    "class Rocket():       \n",
    "    def __init__(self, x=0, y=0):  \n",
    "        self.x = x\n",
    "        self.y = y\n",
    "        \n",
    "    def move_rocket(self, x_increment=0, y_increment=1):    \n",
    "        self.x += x_increment\n",
    "        self.y += y_increment\n",
    "        \n",
    "# create four rockets.\n",
    "rockets = [Rocket() for x in range(0, 4)]\n",
    "\n",
    "# Move each rocket a different amount.\n",
    "rockets[0].move_rocket()\n",
    "rockets[1].move_rocket(10, 10)\n",
    "rockets[2].move_rocket(-10, 0)\n",
    "rockets[3].move_rocket(-10, 0)\n",
    "\n",
    "# Show where each rocket is.\n",
    "for index, rocket in enumerate(rockets):\n",
    "    print(\"Rocket %d is at (%d, %d).\" %(index, rocket.x, rocket.y))\n"
   ]
  },
  {
   "cell_type": "markdown",
   "metadata": {},
   "source": [
    "#### Calculating Distance"
   ]
  },
  {
   "cell_type": "code",
   "execution_count": 5,
   "metadata": {},
   "outputs": [
    {
     "name": "stdout",
     "output_type": "stream",
     "text": [
      "The rockets are 11.180340 units apart.\n"
     ]
    }
   ],
   "source": [
    "from math import sqrt\n",
    "\n",
    "class Rocket():       \n",
    "    def __init__(self, x=0, y=0):  \n",
    "        self.x = x\n",
    "        self.y = y\n",
    "        \n",
    "    def move_rocket(self, x_increment=0, y_increment=1):    \n",
    "        self.x += x_increment\n",
    "        self.y += y_increment\n",
    "    \n",
    "    def get_distance(self, other_rocket):\n",
    "        distance = sqrt((self.x - other_rocket.x)**2 + (self.y - other_rocket.y)**2)\n",
    "        return distance\n",
    "    \n",
    "# Make two rockets, at different places.\n",
    "rocket_0 = Rocket()\n",
    "rocket_1 = Rocket(10, 5)\n",
    "\n",
    "# Show the distance between them.\n",
    "distance = rocket_0.get_distance(rocket_1)\n",
    "print(\"The rockets are %f units apart.\" % distance)"
   ]
  },
  {
   "cell_type": "markdown",
   "metadata": {},
   "source": [
    "### Inheritance"
   ]
  },
  {
   "cell_type": "code",
   "execution_count": 6,
   "metadata": {},
   "outputs": [
    {
     "name": "stdout",
     "output_type": "stream",
     "text": [
      "<__main__.Shuttle object at 0x7f3ab0266518>\n"
     ]
    }
   ],
   "source": [
    "from math import sqrt \n",
    "class Rocket():\n",
    "    def __init__(self, x=0, y=0):\n",
    "        self.x = x\n",
    "        self.y = y\n",
    "        \n",
    "    def move_rocket(self, x_increment = 0, y_increment = 1):\n",
    "        self.x  += x_increment\n",
    "        self.y  += y_increment\n",
    "        \n",
    "    def get_distance(self, other_rocket):\n",
    "        distance = sqrt((self.x-other_rocket.x)**2+(self.y-other_rocket.y)**2)\n",
    "        return distance\n",
    "    \n",
    "\n",
    "# Creating a Shuttle class which will be daughter class or Parent class Rocket.\n",
    "\n",
    "class Shuttle(Rocket):\n",
    "    def __init__(self, x=0, y=0, flights_completed = 0):\n",
    "        super().__init__(x, y)\n",
    "        self.flights_completed = flights_completed\n",
    "        \n",
    "\n",
    "shuttle = Shuttle(10, 0, 3)\n",
    "print(shuttle)"
   ]
  },
  {
   "cell_type": "code",
   "execution_count": 7,
   "metadata": {},
   "outputs": [
    {
     "name": "stdout",
     "output_type": "stream",
     "text": [
      "Shuttle 0 has completed 3 flights.\n",
      "Shuttle 1 has completed 9 flights.\n",
      "Shuttle 2 has completed 0 flights.\n",
      "\n",
      "\n",
      "The first shuttle is 0.000000 units away from shuttle 0.\n",
      "The first shuttle is 25.019992 units away from shuttle 1.\n",
      "The first shuttle is 77.698134 units away from shuttle 2.\n",
      "The first shuttle is 58.796258 units away from rocket 0.\n",
      "The first shuttle is 28.160256 units away from rocket 1.\n",
      "The first shuttle is 14.317821 units away from rocket 2.\n"
     ]
    }
   ],
   "source": [
    "from math import sqrt \n",
    "from random import randint\n",
    "\n",
    "class Rocket():\n",
    "    def __init__(self, x=0, y=0):\n",
    "        self.x = x\n",
    "        self.y = y\n",
    "        \n",
    "    def move_rocket(self, x_increment = 0, y_increment = 1):\n",
    "        self.x  += x_increment\n",
    "        self.y  += y_increment\n",
    "        \n",
    "    def get_distance(self, other_rocket):\n",
    "        distance = sqrt((self.x-other_rocket.x)**2+(self.y-other_rocket.y)**2)\n",
    "        return distance\n",
    "    \n",
    "\n",
    "# Creating a Shuttle class which will be daughter class or Parent class Rocket.\n",
    "\n",
    "class Shuttle(Rocket):\n",
    "    def __init__(self, x=0, y=0, flights_completed = 0):\n",
    "        super().__init__(x, y)\n",
    "        self.flights_completed = flights_completed\n",
    "        \n",
    "\n",
    "# Creating several shuttles and rockets, with random positions\n",
    "# Shttles have a random number of flights completed.\n",
    "\n",
    "shuttles = []\n",
    "for x in range(0, 3):\n",
    "    x = randint(0, 100)\n",
    "    y = randint(1, 100)\n",
    "    flights_completed = randint(0, 10)\n",
    "    shuttles.append(Shuttle(x, y, flights_completed))\n",
    "    \n",
    "rockets = []\n",
    "for x in range(0, 3):\n",
    "    x = randint(0, 100)\n",
    "    y = randint(1, 100)\n",
    "    rockets.append(Rocket(x, y))\n",
    "    \n",
    "# Showing the number of flights completed for each shuttle.\n",
    "for index, shuttle in enumerate(shuttles):\n",
    "    print(\"Shuttle %d has completed %d flights.\" % (index, shuttle.flights_completed))\n",
    "    \n",
    "print('\\n')\n",
    "\n",
    "# Showing the distance from the first shuttle to al ltoher shuttles.\n",
    "first_shuttle = shuttles[0]\n",
    "for index, shuttle in enumerate(shuttles):\n",
    "    distance = first_shuttle.get_distance(shuttle)\n",
    "    print(\"The first shuttle is %f units away from shuttle %d.\" % (distance, index))\n",
    "\n",
    "\n",
    "# Showing the distance from the first shuttle to all other rockets.\n",
    "for index, rocket in enumerate(rockets):\n",
    "    distance = first_shuttle.get_distance(rocket)\n",
    "    print(\"The first shuttle is %f units away from rocket %d.\" % (distance, index))"
   ]
  }
 ],
 "metadata": {
  "kernelspec": {
   "display_name": "Python 3",
   "language": "python",
   "name": "python3"
  },
  "language_info": {
   "codemirror_mode": {
    "name": "ipython",
    "version": 3
   },
   "file_extension": ".py",
   "mimetype": "text/x-python",
   "name": "python",
   "nbconvert_exporter": "python",
   "pygments_lexer": "ipython3",
   "version": "3.6.9"
  }
 },
 "nbformat": 4,
 "nbformat_minor": 4
}
